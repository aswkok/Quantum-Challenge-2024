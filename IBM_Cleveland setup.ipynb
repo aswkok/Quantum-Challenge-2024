{
 "cells": [
  {
   "cell_type": "code",
   "execution_count": null,
   "id": "96a31ad0-120e-4000-b2b3-5865932c0dcc",
   "metadata": {},
   "outputs": [],
   "source": [
    "from qiskit_ibm_runtime import QiskitRuntimeService\n",
    " \n",
    " # Save account to disk.\n",
    "QiskitRuntimeService.save_account(channel=\"ibm_quantum\", token=\"cdf9b9daff6e97da8251bab4881ad0e7225af65946ca3f7e127fa3e4709ff8f15e34a8d45aba9936e77fa455b9d426546c6b62dda33b95b996237eb100b43aee\", name=\"xuy\", set_as_default=True, overwrite=True)\n",
    " \n",
    " # Load saved credentials\n",
    "service = QiskitRuntimeService(name=\"xuy\")\n",
    "\n",
    "backend = service.backend(\"ibm_cleveland\")"
   ]
  }
 ],
 "metadata": {
  "kernelspec": {
   "display_name": "Python 3 (ipykernel)",
   "language": "python",
   "name": "python3"
  },
  "language_info": {
   "codemirror_mode": {
    "name": "ipython",
    "version": 3
   },
   "file_extension": ".py",
   "mimetype": "text/x-python",
   "name": "python",
   "nbconvert_exporter": "python",
   "pygments_lexer": "ipython3",
   "version": "3.12.3"
  }
 },
 "nbformat": 4,
 "nbformat_minor": 5
}
